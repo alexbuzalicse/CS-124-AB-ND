{
 "cells": [
  {
   "cell_type": "code",
   "execution_count": 10,
   "outputs": [],
   "source": [
    "import numpy as np\n",
    "import matplotlib.pyplot as plt\n",
    "import standardAlgorithms\n",
    "import prepartitionAlgorithms"
   ],
   "metadata": {
    "collapsed": false,
    "ExecuteTime": {
     "end_time": "2024-04-11T01:56:45.969606Z",
     "start_time": "2024-04-11T01:56:45.709252Z"
    }
   }
  },
  {
   "cell_type": "code",
   "execution_count": 16,
   "outputs": [],
   "source": [
    "trialNumber = 50\n",
    "maxIterations = 25000"
   ],
   "metadata": {
    "collapsed": false,
    "ExecuteTime": {
     "end_time": "2024-04-11T02:01:12.360943Z",
     "start_time": "2024-04-11T02:01:12.349445Z"
    }
   }
  },
  {
   "cell_type": "code",
   "execution_count": 17,
   "outputs": [
    {
     "name": "stdout",
     "output_type": "stream",
     "text": [
      "Trial 1\n",
      "KK Done\n",
      "Standard RR Done\n",
      "Standard HC Done\n",
      "Standard SA Done\n",
      "Trial 2\n",
      "KK Done\n",
      "Standard RR Done\n",
      "Standard HC Done\n",
      "Standard SA Done\n",
      "Trial 3\n",
      "KK Done\n",
      "Standard RR Done\n",
      "Standard HC Done\n",
      "Standard SA Done\n",
      "Trial 4\n",
      "KK Done\n",
      "Standard RR Done\n",
      "Standard HC Done\n",
      "Standard SA Done\n",
      "Trial 5\n",
      "KK Done\n",
      "Standard RR Done\n",
      "Standard HC Done\n",
      "Standard SA Done\n",
      "Trial 6\n",
      "KK Done\n",
      "Standard RR Done\n",
      "Standard HC Done\n",
      "Standard SA Done\n",
      "Trial 7\n",
      "KK Done\n",
      "Standard RR Done\n",
      "Standard HC Done\n",
      "Standard SA Done\n",
      "Trial 8\n",
      "KK Done\n",
      "Standard RR Done\n",
      "Standard HC Done\n",
      "Standard SA Done\n",
      "Trial 9\n",
      "KK Done\n",
      "Standard RR Done\n",
      "Standard HC Done\n",
      "Standard SA Done\n",
      "Trial 10\n",
      "KK Done\n",
      "Standard RR Done\n",
      "Standard HC Done\n",
      "Standard SA Done\n",
      "Trial 11\n",
      "KK Done\n",
      "Standard RR Done\n",
      "Standard HC Done\n",
      "Standard SA Done\n",
      "Trial 12\n",
      "KK Done\n",
      "Standard RR Done\n",
      "Standard HC Done\n",
      "Standard SA Done\n",
      "Trial 13\n",
      "KK Done\n",
      "Standard RR Done\n",
      "Standard HC Done\n",
      "Standard SA Done\n",
      "Trial 14\n",
      "KK Done\n",
      "Standard RR Done\n",
      "Standard HC Done\n",
      "Standard SA Done\n",
      "Trial 15\n",
      "KK Done\n",
      "Standard RR Done\n",
      "Standard HC Done\n",
      "Standard SA Done\n",
      "Trial 16\n",
      "KK Done\n",
      "Standard RR Done\n",
      "Standard HC Done\n",
      "Standard SA Done\n",
      "Trial 17\n",
      "KK Done\n",
      "Standard RR Done\n",
      "Standard HC Done\n",
      "Standard SA Done\n",
      "Trial 18\n",
      "KK Done\n",
      "Standard RR Done\n",
      "Standard HC Done\n",
      "Standard SA Done\n",
      "Trial 19\n",
      "KK Done\n",
      "Standard RR Done\n",
      "Standard HC Done\n",
      "Standard SA Done\n",
      "Trial 20\n",
      "KK Done\n",
      "Standard RR Done\n",
      "Standard HC Done\n",
      "Standard SA Done\n",
      "Trial 21\n",
      "KK Done\n",
      "Standard RR Done\n",
      "Standard HC Done\n",
      "Standard SA Done\n",
      "Trial 22\n",
      "KK Done\n",
      "Standard RR Done\n",
      "Standard HC Done\n",
      "Standard SA Done\n",
      "Trial 23\n",
      "KK Done\n",
      "Standard RR Done\n",
      "Standard HC Done\n",
      "Standard SA Done\n",
      "Trial 24\n",
      "KK Done\n",
      "Standard RR Done\n",
      "Standard HC Done\n",
      "Standard SA Done\n",
      "Trial 25\n",
      "KK Done\n",
      "Standard RR Done\n",
      "Standard HC Done\n",
      "Standard SA Done\n",
      "Trial 26\n",
      "KK Done\n",
      "Standard RR Done\n",
      "Standard HC Done\n",
      "Standard SA Done\n",
      "Trial 27\n",
      "KK Done\n",
      "Standard RR Done\n",
      "Standard HC Done\n",
      "Standard SA Done\n",
      "Trial 28\n",
      "KK Done\n",
      "Standard RR Done\n",
      "Standard HC Done\n",
      "Standard SA Done\n",
      "Trial 29\n",
      "KK Done\n",
      "Standard RR Done\n",
      "Standard HC Done\n",
      "Standard SA Done\n",
      "Trial 30\n",
      "KK Done\n",
      "Standard RR Done\n",
      "Standard HC Done\n",
      "Standard SA Done\n",
      "Trial 31\n",
      "KK Done\n",
      "Standard RR Done\n",
      "Standard HC Done\n",
      "Standard SA Done\n",
      "Trial 32\n",
      "KK Done\n",
      "Standard RR Done\n",
      "Standard HC Done\n",
      "Standard SA Done\n",
      "Trial 33\n",
      "KK Done\n",
      "Standard RR Done\n",
      "Standard HC Done\n",
      "Standard SA Done\n",
      "Trial 34\n",
      "KK Done\n",
      "Standard RR Done\n",
      "Standard HC Done\n",
      "Standard SA Done\n",
      "Trial 35\n",
      "KK Done\n",
      "Standard RR Done\n",
      "Standard HC Done\n",
      "Standard SA Done\n",
      "Trial 36\n",
      "KK Done\n",
      "Standard RR Done\n",
      "Standard HC Done\n",
      "Standard SA Done\n",
      "Trial 37\n",
      "KK Done\n",
      "Standard RR Done\n",
      "Standard HC Done\n",
      "Standard SA Done\n",
      "Trial 38\n",
      "KK Done\n",
      "Standard RR Done\n",
      "Standard HC Done\n",
      "Standard SA Done\n",
      "Trial 39\n",
      "KK Done\n",
      "Standard RR Done\n",
      "Standard HC Done\n",
      "Standard SA Done\n",
      "Trial 40\n",
      "KK Done\n",
      "Standard RR Done\n",
      "Standard HC Done\n",
      "Standard SA Done\n",
      "Trial 41\n",
      "KK Done\n",
      "Standard RR Done\n",
      "Standard HC Done\n",
      "Standard SA Done\n",
      "Trial 42\n",
      "KK Done\n",
      "Standard RR Done\n",
      "Standard HC Done\n",
      "Standard SA Done\n",
      "Trial 43\n",
      "KK Done\n",
      "Standard RR Done\n",
      "Standard HC Done\n",
      "Standard SA Done\n",
      "Trial 44\n",
      "KK Done\n",
      "Standard RR Done\n",
      "Standard HC Done\n",
      "Standard SA Done\n",
      "Trial 45\n",
      "KK Done\n",
      "Standard RR Done\n",
      "Standard HC Done\n",
      "Standard SA Done\n",
      "Trial 46\n",
      "KK Done\n",
      "Standard RR Done\n",
      "Standard HC Done\n",
      "Standard SA Done\n",
      "Trial 47\n",
      "KK Done\n",
      "Standard RR Done\n",
      "Standard HC Done\n",
      "Standard SA Done\n",
      "Trial 48\n",
      "KK Done\n",
      "Standard RR Done\n",
      "Standard HC Done\n",
      "Standard SA Done\n",
      "Trial 49\n",
      "KK Done\n",
      "Standard RR Done\n",
      "Standard HC Done\n",
      "Standard SA Done\n",
      "Trial 50\n",
      "KK Done\n",
      "Standard RR Done\n",
      "Standard HC Done\n",
      "Standard SA Done\n"
     ]
    }
   ],
   "source": [
    "karmarkarKarpResults = []\n",
    "\n",
    "standardRepeatedRandomResults = []\n",
    "standardHillClimbingResults = []\n",
    "standardSimulatedAnnealingResults = []\n",
    "\n",
    "prepartitionRepeatedRandomResults = []\n",
    "prepartitionHillClimbingResults = []\n",
    "prepartitionSimulatedAnnealingResults = []\n",
    "\n",
    "for i in range(trialNumber):\n",
    "\n",
    "    print(f'Trial {i+1}')\n",
    "    A = np.random.randint(1,1e12,100)\n",
    "\n",
    "    karmarkarKarpResults.append(standardAlgorithms.karmarkarKarp(A))\n",
    "    print('KK Done')\n",
    "\n",
    "    standardRepeatedRandomResults.append(standardAlgorithms.repeatedRandom(A,maxIterations))\n",
    "    print('Standard RR Done')\n",
    "\n",
    "    standardHillClimbingResults.append(standardAlgorithms.hillClimbing(A,maxIterations))\n",
    "    print('Standard HC Done')\n",
    "\n",
    "    standardSimulatedAnnealingResults.append(standardAlgorithms.simulatedAnnealing(A,maxIterations))\n",
    "    print('Standard SA Done')\n",
    "\n",
    "    # prepartitionRepeatedRandomResults.append(prepartitionAlgorithms.repeatedRandom(A,maxIterations))\n",
    "    # print('Prepartition RR Done')\n",
    "    #\n",
    "    # prepartitionHillClimbingResults.append(prepartitionAlgorithms.hillClimbing(A,maxIterations))\n",
    "    # print('Prepartition HC Done')\n",
    "    #\n",
    "    # prepartitionSimulatedAnnealingResults.append(prepartitionAlgorithms.simulatedAnnealing(A,maxIterations))\n",
    "    # print('Prepartition SA Done')"
   ],
   "metadata": {
    "collapsed": false,
    "ExecuteTime": {
     "end_time": "2024-04-11T02:02:24.045527Z",
     "start_time": "2024-04-11T02:01:12.752608Z"
    }
   }
  },
  {
   "cell_type": "code",
   "execution_count": 39,
   "outputs": [
    {
     "data": {
      "text/plain": "Text(0.5, 1.0, 'Karmarkar-Karp')"
     },
     "execution_count": 39,
     "metadata": {},
     "output_type": "execute_result"
    },
    {
     "data": {
      "text/plain": "<Figure size 640x480 with 1 Axes>",
      "image/png": "[encoded data removed]"
     },
     "metadata": {},
     "output_type": "display_data"
    }
   ],
   "source": [
    "# Karmarkar-Karp Results\n",
    "plt.hist(karmarkarKarpResults)\n",
    "plt.title('Karmarkar-Karp')"
   ],
   "metadata": {
    "collapsed": false,
    "ExecuteTime": {
     "end_time": "2024-04-11T02:10:06.906312Z",
     "start_time": "2024-04-11T02:10:06.824863Z"
    }
   }
  },
  {
   "cell_type": "code",
   "execution_count": 38,
   "outputs": [
    {
     "data": {
      "text/plain": "Text(0.5, 1.0, 'Simulated Annealing')"
     },
     "execution_count": 38,
     "metadata": {},
     "output_type": "execute_result"
    },
    {
     "data": {
      "text/plain": "<Figure size 1200x400 with 3 Axes>",
      "image/png": "[encoded data removed]"
     },
     "metadata": {},
     "output_type": "display_data"
    }
   ],
   "source": [
    "# Standard Results\n",
    "fig, ax = plt.subplots(1,3,figsize=(12,4))\n",
    "\n",
    "ax[0].hist(standardRepeatedRandomResults, color = 'C1')\n",
    "ax[0].set_xlabel('Residue')\n",
    "ax[0].set_title('Repeated Random')\n",
    "ax[1].hist(standardHillClimbingResults, color = 'C2')\n",
    "ax[1].set_xlabel('Residue')\n",
    "ax[1].set_title('Hill Climbing')\n",
    "ax[2].hist(standardSimulatedAnnealingResults, color = 'C3')\n",
    "ax[2].set_xlabel('Residue')\n",
    "ax[2].set_title('Simulated Annealing')"
   ],
   "metadata": {
    "collapsed": false,
    "ExecuteTime": {
     "end_time": "2024-04-11T02:09:49.809514Z",
     "start_time": "2024-04-11T02:09:49.634160Z"
    }
   }
  },
  {
   "cell_type": "code",
   "execution_count": 40,
   "outputs": [
    {
     "data": {
      "text/plain": "Text(0.5, 1.0, 'Simulated Annealing')"
     },
     "execution_count": 40,
     "metadata": {},
     "output_type": "execute_result"
    },
    {
     "data": {
      "text/plain": "<Figure size 1200x400 with 3 Axes>",
      "image/png": "[encoded data removed]"
     },
     "metadata": {},
     "output_type": "display_data"
    }
   ],
   "source": [
    "# Prepartition Results\n",
    "fig, ax = plt.subplots(1,3,figsize=(12,4))\n",
    "\n",
    "ax[0].hist(prepartitionRepeatedRandomResults, color = 'C1')\n",
    "ax[0].set_xlabel('Residue')\n",
    "ax[0].set_title('Repeated Random')\n",
    "ax[1].hist(prepartitionHillClimbingResults, color = 'C2')\n",
    "ax[1].set_xlabel('Residue')\n",
    "ax[1].set_title('Hill Climbing')\n",
    "ax[2].hist(prepartitionSimulatedAnnealingResults, color = 'C3')\n",
    "ax[2].set_xlabel('Residue')\n",
    "ax[2].set_title('Simulated Annealing')"
   ],
   "metadata": {
    "collapsed": false,
    "ExecuteTime": {
     "end_time": "2024-04-11T02:10:40.038749Z",
     "start_time": "2024-04-11T02:10:39.881360Z"
    }
   }
  },
  {
   "cell_type": "code",
   "execution_count": null,
   "outputs": [],
   "source": [],
   "metadata": {
    "collapsed": false
   }
  }
 ],
 "metadata": {
  "kernelspec": {
   "display_name": "Python 3",
   "language": "python",
   "name": "python3"
  },
  "language_info": {
   "codemirror_mode": {
    "name": "ipython",
    "version": 2
   },
   "file_extension": ".py",
   "mimetype": "text/x-python",
   "name": "python",
   "nbconvert_exporter": "python",
   "pygments_lexer": "ipython2",
   "version": "2.7.6"
  }
 },
 "nbformat": 4,
 "nbformat_minor": 0
}
